{
 "cells": [
  {
   "cell_type": "markdown",
   "id": "indonesian-familiar",
   "metadata": {},
   "source": [
    "# Hotel Recognition to Combat Human Trafficking | Exploratory Data Analysis\n",
    "    2021-04-05\n",
    "    Edward Sims\n",
    "\n",
    "## Introduction\n",
    "Victims of human trafficking are often photographed in hotel rooms as in the below examples. Identifying these hotels is vital to these trafficking investigations but poses particular challenges due to low quality of images and uncommon camera angles.\n",
    "\n",
    "![Image from Kaggle competition page: https://www.kaggle.com/c/hotel-id-2021-fgvc8/overview/description](images/example_victim_images.png)\n",
    "\n",
    "Even without victims in the images, hotel identification in general is a challenging fine-grained visual recognition task with a huge number of classes and potentially high intraclass and low interclass variation. In order to support research into this challenging task and create image search tools for human trafficking investigators, we created the TraffickCam mobile application, which allows every day travelers to submit photos of their hotel room. Read more about [TraffickCam on TechCrunch](https://techcrunch.com/2016/06/25/traffickcam/).\n",
    "\n",
    "## Evaluation\n",
    "Submissions are evaluated according to the Mean Average Precision @ 5 (MAP@5):\n",
    "\n",
    "<img src=\"images/map5_formula.png\" alt=\"MAP@5 formula\" style=\"width: 300px;\"/>\n",
    "\n",
    "where ***U*** is the number of images, ***P(k)*** is the precision at cutoff ***k***, ***n*** is the number of predictions per image, and ***rel(k)*** is an indicator function equaling 1 if the item at rank ***k*** is a relevant correct label, zero otherwise.\n",
    "\n",
    "Once a correct label has been scored for an observation, that label is no longer considered relevant for that observation, and additional predictions of that label are skipped in the calculation. For example, if the correct label is ***A*** for an observation, the following predictions all score an average precision of 1.0.\n",
    "\n",
    "```\n",
    "A B C D E\n",
    "A A A A A\n",
    "A B A C A\n",
    "```\n",
    "\n",
    "## Submission File\n",
    "For each image in the test set, you must predict a space-delimited list of hotel IDs that could match that image. The list should be sorted such that the first ID is considered the most relevant one and the last the least relevant one. The file should contain a header and have the following format:\n",
    "\n",
    "```\n",
    "image,hotel_id \n",
    "99e91ad5f2870678.jpg,36363 53586 18807 64314 60181\n",
    "b5cc62ab665591a9.jpg,36363 53586 18807 64314 60181\n",
    "d5664a972d5a644b.jpg,36363 53586 18807 64314 60181\n",
    "```\n",
    "\n",
    "## Data \n",
    "Identifying the location of a hotel room is a challenging problem of great interest for combating human trafficking. This competition provides a rich dataset of photos of hotel room interiors, without any people present, for this purpose.\n",
    "\n",
    "Many of the hotels are independent or part of very small chains, where shared decor isn't a concern. However, the shared standards for their interior decoration for the larger chains means that many hotels can look quite similar at first glance. Identifying the chain can narrow the range of possibilities, but only down to a set that is much harder to tell apart and is still scattered across a wide geographic area. The real value lies in getting the number of candidates to a small enough number that a human investigator could follow up on all of them.\n",
    "\n",
    "### Files\n",
    "**train.csv** - The training set metadata.\n",
    " - `image` - The image ID.\n",
    " - `chain` - An ID code for the hotel chain. A chain of zero (0) indicates that the hotel is either not part of a chain or the chain is not known. This field is not available for the test set. The number of hotels per chain varies widely.\n",
    " - `hotel_id` - The hotel ID. The target class.\n",
    " - `timestamp` - When the image was taken. Provided for the training set only.\n",
    " \n",
    "**sample_submission.csv** - A sample submission file in the correct format.\n",
    " - `image` The image ID\n",
    " - `hotel_id` The hotel ID. The target class.\n",
    " \n",
    "**train_images** - The training set contains 97000+ images from around 7700 hotels from across the globe. All of the images for each hotel chain are in a dedicated subfolder for that chain.\n",
    "\n",
    "**test_images** - The test set images. This competition has a hidden test set: only three images are provided here as samples while the remaining 13,000 images will be available to your notebook once it is submitted.\n",
    "\n",
    "## 1.00 Import Packages"
   ]
  },
  {
   "cell_type": "code",
   "execution_count": 73,
   "id": "accessible-ability",
   "metadata": {},
   "outputs": [],
   "source": [
    "# Data manipulation packages\n",
    "import pandas as pd\n",
    "import numpy as np\n",
    "import cv2\n",
    "\n",
    "# General packages\n",
    "import os\n",
    "import gc\n",
    "import random\n",
    "from tqdm import tqdm, tqdm_notebook\n",
    "import time\n",
    "import warnings\n",
    "\n",
    "# Data vis packages\n",
    "import matplotlib.pyplot as plt\n",
    "%matplotlib inline\n",
    "import seaborn as sns\n",
    "\n",
    "# Package options\n",
    "warnings.filterwarnings(\"ignore\")\n",
    "pd.set_option(\"display.max_columns\", 50)\n",
    "plt.rcParams[\"figure.figsize\"] = [14, 8]"
   ]
  },
  {
   "cell_type": "markdown",
   "id": "7ff28259",
   "metadata": {},
   "source": [
    "## 2.00 Read in data\n",
    "### 2.01 Get paths and set initial parameters"
   ]
  },
  {
   "cell_type": "code",
   "execution_count": 2,
   "id": "dfca6cbb",
   "metadata": {},
   "outputs": [],
   "source": [
    "# Data paths\n",
    "data_dir_path         = \"../input/hotel-id-2021-fgvc8\"\n",
    "train_images_dir_path = os.path.join(data_dir_path, \"train_images\")\n",
    "test_images_dir_path  = os.path.join(data_dir_path, \"test_images\")\n",
    "\n",
    "train_metadata_path   = os.path.join(data_dir_path, \"train.csv\")\n",
    "sample_sub_path       = os.path.join(data_dir_path, \"sample_submission.csv\")\n",
    "\n",
    "# Read csv data\n",
    "train_metadata        = pd.read_csv(train_metadata_path, parse_dates=[\"timestamp\"])\n",
    "sample_sub            = pd.read_csv(sample_sub_path)"
   ]
  },
  {
   "cell_type": "code",
   "execution_count": 3,
   "id": "8436623b",
   "metadata": {},
   "outputs": [],
   "source": [
    "# Set image parameters\n",
    "ROWS     = 256 # Default row size\n",
    "COLS     = 256 # Default col size\n",
    "CHANNELS = 3"
   ]
  },
  {
   "cell_type": "markdown",
   "id": "dcc78d42",
   "metadata": {},
   "source": [
    "### 2.02 Read in images"
   ]
  },
  {
   "cell_type": "code",
   "execution_count": 4,
   "id": "8114f165",
   "metadata": {},
   "outputs": [],
   "source": [
    "def read_jpgs(image_dir_path, rows, cols, loading_bar=True):\n",
    "    \"\"\"Reads images into np.array from directory of image files.\n",
    "\n",
    "    Parameters\n",
    "    ----------\n",
    "    image_dir : list\n",
    "        Directory of images to read from.\n",
    "    rows : int\n",
    "        Image height to resize to.\n",
    "    cols : int\n",
    "        Image width to resize to.\n",
    "    loading_bar : bool\n",
    "        Include loading bar or non-verbose.\n",
    "\n",
    "    Returns\n",
    "    -------\n",
    "    np.array\n",
    "        Array of images read in.\n",
    "\n",
    "    \"\"\"\n",
    "    # Read image data\n",
    "    image_list = []\n",
    "    \n",
    "    if loading_bar == True:\n",
    "        for chain_id in tqdm(os.listdir(image_dir_path)):\n",
    "            # Each subdirectory is a chain_id\n",
    "            chain_id_dir_path = os.path.join(image_dir_path, chain_id)\n",
    "            # Read images from each chain_id subdirectory\n",
    "            for image in os.listdir(chain_id_dir_path)[0:10]: # Read only first 10 images for eda\n",
    "                # Read image\n",
    "                image_path = os.path.join(chain_id_dir_path, image)\n",
    "                try:\n",
    "                    image = cv2.imread(image_path)\n",
    "                    image = cv2.resize(image, (rows, cols))\n",
    "                    # Append to list of images\n",
    "                    image_list.append(image)    \n",
    "                except:\n",
    "                    pass\n",
    "    elif loading_bar == False:\n",
    "        for chain_id in os.listdir(image_dir_path):\n",
    "            # Each subdirectory is a chain_id\n",
    "            chain_id_dir_path = os.path.join(image_dir_path, chain_id)\n",
    "            # Read images from each chain_id subdirectory\n",
    "            for image in os.listdir(chain_id_dir_path):\n",
    "                # Read image\n",
    "                image_path = os.path.join(chain_id_dir_path, image)\n",
    "                try:\n",
    "                    image = cv2.imread(image_path)\n",
    "                    image = cv2.resize(image, (rows, cols))\n",
    "                    # Append to list of images\n",
    "                    image_list.append(image)    \n",
    "                except:\n",
    "                    pass\n",
    "    \n",
    "    # Convert image list to array\n",
    "    image_list = np.array(image_list)\n",
    "    \n",
    "    return(image_list)"
   ]
  },
  {
   "cell_type": "code",
   "execution_count": 5,
   "id": "f015da16",
   "metadata": {
    "scrolled": true
   },
   "outputs": [],
   "source": [
    "#train_images = read_jpgs(image_dir_path=train_images_dir_path, rows=ROWS, cols=COLS)"
   ]
  },
  {
   "cell_type": "markdown",
   "id": "2df47f49",
   "metadata": {},
   "source": [
    "## 3.00 Metadata Analysis\n",
    "\n",
    "TODO:\n",
    " - Aggregations\n",
    "  - Freq chain - distplot\n",
    "  - Freq hotel id\n",
    "  - Avg/max/min/std number of ids per chain\n",
    "  - Avg/max/min/std number of ids per hotel id\n",
    "  \n",
    " - Time stamps\n",
    "  - Range of dates\n",
    "  - Freq years\n",
    "  - Freq month\n",
    "  - Freq weekend\n",
    "  - Distplot dates per year (month and day freqs)\n",
    "  - Distplot times (24hrs)\n",
    "\n",
    "### 3.01 Initial Checks"
   ]
  },
  {
   "cell_type": "code",
   "execution_count": 6,
   "id": "e841105d",
   "metadata": {},
   "outputs": [
    {
     "data": {
      "text/html": [
       "<div>\n",
       "<style scoped>\n",
       "    .dataframe tbody tr th:only-of-type {\n",
       "        vertical-align: middle;\n",
       "    }\n",
       "\n",
       "    .dataframe tbody tr th {\n",
       "        vertical-align: top;\n",
       "    }\n",
       "\n",
       "    .dataframe thead th {\n",
       "        text-align: right;\n",
       "    }\n",
       "</style>\n",
       "<table border=\"1\" class=\"dataframe\">\n",
       "  <thead>\n",
       "    <tr style=\"text-align: right;\">\n",
       "      <th></th>\n",
       "      <th>image</th>\n",
       "      <th>chain</th>\n",
       "      <th>hotel_id</th>\n",
       "      <th>timestamp</th>\n",
       "    </tr>\n",
       "  </thead>\n",
       "  <tbody>\n",
       "    <tr>\n",
       "      <th>0</th>\n",
       "      <td>8000d59f6a3d765f.jpg</td>\n",
       "      <td>85</td>\n",
       "      <td>24607</td>\n",
       "      <td>2018-11-28 05:42:31</td>\n",
       "    </tr>\n",
       "    <tr>\n",
       "      <th>1</th>\n",
       "      <td>8000febe81817f7f.jpg</td>\n",
       "      <td>6</td>\n",
       "      <td>25389</td>\n",
       "      <td>2017-01-01 07:01:46</td>\n",
       "    </tr>\n",
       "    <tr>\n",
       "      <th>2</th>\n",
       "      <td>80053befc2d42fba.jpg</td>\n",
       "      <td>3</td>\n",
       "      <td>672</td>\n",
       "      <td>2018-01-26 13:22:07</td>\n",
       "    </tr>\n",
       "    <tr>\n",
       "      <th>3</th>\n",
       "      <td>8007fa0a8fe89f9d.jpg</td>\n",
       "      <td>5</td>\n",
       "      <td>63866</td>\n",
       "      <td>2020-07-03 02:31:31</td>\n",
       "    </tr>\n",
       "    <tr>\n",
       "      <th>4</th>\n",
       "      <td>800a4a6b6f6d2df6.jpg</td>\n",
       "      <td>0</td>\n",
       "      <td>12036</td>\n",
       "      <td>2017-09-22 17:59:22</td>\n",
       "    </tr>\n",
       "  </tbody>\n",
       "</table>\n",
       "</div>"
      ],
      "text/plain": [
       "                  image  chain  hotel_id           timestamp\n",
       "0  8000d59f6a3d765f.jpg     85     24607 2018-11-28 05:42:31\n",
       "1  8000febe81817f7f.jpg      6     25389 2017-01-01 07:01:46\n",
       "2  80053befc2d42fba.jpg      3       672 2018-01-26 13:22:07\n",
       "3  8007fa0a8fe89f9d.jpg      5     63866 2020-07-03 02:31:31\n",
       "4  800a4a6b6f6d2df6.jpg      0     12036 2017-09-22 17:59:22"
      ]
     },
     "execution_count": 6,
     "metadata": {},
     "output_type": "execute_result"
    }
   ],
   "source": [
    "train_metadata.head()"
   ]
  },
  {
   "cell_type": "code",
   "execution_count": 7,
   "id": "4043ff7d",
   "metadata": {},
   "outputs": [
    {
     "data": {
      "text/html": [
       "<div>\n",
       "<style scoped>\n",
       "    .dataframe tbody tr th:only-of-type {\n",
       "        vertical-align: middle;\n",
       "    }\n",
       "\n",
       "    .dataframe tbody tr th {\n",
       "        vertical-align: top;\n",
       "    }\n",
       "\n",
       "    .dataframe thead th {\n",
       "        text-align: right;\n",
       "    }\n",
       "</style>\n",
       "<table border=\"1\" class=\"dataframe\">\n",
       "  <thead>\n",
       "    <tr style=\"text-align: right;\">\n",
       "      <th></th>\n",
       "      <th>image</th>\n",
       "      <th>chain</th>\n",
       "      <th>hotel_id</th>\n",
       "      <th>timestamp</th>\n",
       "    </tr>\n",
       "  </thead>\n",
       "  <tbody>\n",
       "    <tr>\n",
       "      <th>97551</th>\n",
       "      <td>ffff8082ec219892.jpg</td>\n",
       "      <td>83</td>\n",
       "      <td>20544</td>\n",
       "      <td>2016-12-18 03:04:54</td>\n",
       "    </tr>\n",
       "    <tr>\n",
       "      <th>97552</th>\n",
       "      <td>ffff8200e50cc0f1.jpg</td>\n",
       "      <td>82</td>\n",
       "      <td>51053</td>\n",
       "      <td>2018-01-23 03:51:42</td>\n",
       "    </tr>\n",
       "    <tr>\n",
       "      <th>97553</th>\n",
       "      <td>ffff84129981a4a4.jpg</td>\n",
       "      <td>83</td>\n",
       "      <td>42842</td>\n",
       "      <td>2017-03-30 22:45:24</td>\n",
       "    </tr>\n",
       "    <tr>\n",
       "      <th>97554</th>\n",
       "      <td>ffff85015040c2af.jpg</td>\n",
       "      <td>82</td>\n",
       "      <td>6261</td>\n",
       "      <td>2016-11-09 12:34:06</td>\n",
       "    </tr>\n",
       "    <tr>\n",
       "      <th>97555</th>\n",
       "      <td>ffffc0c05f2820c1.jpg</td>\n",
       "      <td>79</td>\n",
       "      <td>58764</td>\n",
       "      <td>2017-06-14 21:55:37</td>\n",
       "    </tr>\n",
       "  </tbody>\n",
       "</table>\n",
       "</div>"
      ],
      "text/plain": [
       "                      image  chain  hotel_id           timestamp\n",
       "97551  ffff8082ec219892.jpg     83     20544 2016-12-18 03:04:54\n",
       "97552  ffff8200e50cc0f1.jpg     82     51053 2018-01-23 03:51:42\n",
       "97553  ffff84129981a4a4.jpg     83     42842 2017-03-30 22:45:24\n",
       "97554  ffff85015040c2af.jpg     82      6261 2016-11-09 12:34:06\n",
       "97555  ffffc0c05f2820c1.jpg     79     58764 2017-06-14 21:55:37"
      ]
     },
     "execution_count": 7,
     "metadata": {},
     "output_type": "execute_result"
    }
   ],
   "source": [
    "train_metadata.tail()"
   ]
  },
  {
   "cell_type": "code",
   "execution_count": 8,
   "id": "e4d2123b",
   "metadata": {},
   "outputs": [
    {
     "name": "stdout",
     "output_type": "stream",
     "text": [
      "<class 'pandas.core.frame.DataFrame'>\n",
      "RangeIndex: 97556 entries, 0 to 97555\n",
      "Data columns (total 4 columns):\n",
      " #   Column     Non-Null Count  Dtype         \n",
      "---  ------     --------------  -----         \n",
      " 0   image      97556 non-null  object        \n",
      " 1   chain      97556 non-null  int64         \n",
      " 2   hotel_id   97556 non-null  int64         \n",
      " 3   timestamp  97556 non-null  datetime64[ns]\n",
      "dtypes: datetime64[ns](1), int64(2), object(1)\n",
      "memory usage: 3.0+ MB\n"
     ]
    }
   ],
   "source": [
    "train_metadata.info()"
   ]
  },
  {
   "cell_type": "markdown",
   "id": "271dbbfc",
   "metadata": {},
   "source": [
    "### 3.02 Duplicates"
   ]
  },
  {
   "cell_type": "code",
   "execution_count": 9,
   "id": "8ac8f8d8",
   "metadata": {},
   "outputs": [
    {
     "name": "stdout",
     "output_type": "stream",
     "text": [
      "Train metadata dimensions: \t(97556, 4)\n",
      "Number of unique records: \t97556\n",
      "Number of unique image names: \t97554\n"
     ]
    }
   ],
   "source": [
    "# Print high level stats on metadata dimensions\n",
    "print(f\"Train metadata dimensions: \\t{train_metadata.shape}\")\n",
    "print(f\"Number of unique records: \\t{len(train_metadata.drop_duplicates())}\")\n",
    "print(f\"Number of unique image names: \\t{train_metadata['image'].nunique()}\")"
   ]
  },
  {
   "cell_type": "markdown",
   "id": "87ca2e55",
   "metadata": {},
   "source": [
    "There appear to be two duplicated image names, but these aren't considered duplicate records. We'll investigate these two records individually."
   ]
  },
  {
   "cell_type": "code",
   "execution_count": 10,
   "id": "521928e8",
   "metadata": {},
   "outputs": [
    {
     "data": {
      "text/html": [
       "<div>\n",
       "<style scoped>\n",
       "    .dataframe tbody tr th:only-of-type {\n",
       "        vertical-align: middle;\n",
       "    }\n",
       "\n",
       "    .dataframe tbody tr th {\n",
       "        vertical-align: top;\n",
       "    }\n",
       "\n",
       "    .dataframe thead th {\n",
       "        text-align: right;\n",
       "    }\n",
       "</style>\n",
       "<table border=\"1\" class=\"dataframe\">\n",
       "  <thead>\n",
       "    <tr style=\"text-align: right;\">\n",
       "      <th></th>\n",
       "      <th>image</th>\n",
       "      <th>chain</th>\n",
       "      <th>hotel_id</th>\n",
       "      <th>timestamp</th>\n",
       "    </tr>\n",
       "  </thead>\n",
       "  <tbody>\n",
       "    <tr>\n",
       "      <th>56845</th>\n",
       "      <td>c7c7383898d76598.jpg</td>\n",
       "      <td>6</td>\n",
       "      <td>60918</td>\n",
       "      <td>2020-07-18 00:03:38</td>\n",
       "    </tr>\n",
       "    <tr>\n",
       "      <th>56846</th>\n",
       "      <td>c7c7383898d76598.jpg</td>\n",
       "      <td>6</td>\n",
       "      <td>60918</td>\n",
       "      <td>2020-08-29 04:35:13</td>\n",
       "    </tr>\n",
       "    <tr>\n",
       "      <th>62238</th>\n",
       "      <td>ce27d36c9147cc19.jpg</td>\n",
       "      <td>6</td>\n",
       "      <td>60918</td>\n",
       "      <td>2020-07-18 00:03:38</td>\n",
       "    </tr>\n",
       "    <tr>\n",
       "      <th>62239</th>\n",
       "      <td>ce27d36c9147cc19.jpg</td>\n",
       "      <td>6</td>\n",
       "      <td>60918</td>\n",
       "      <td>2020-08-29 04:35:13</td>\n",
       "    </tr>\n",
       "  </tbody>\n",
       "</table>\n",
       "</div>"
      ],
      "text/plain": [
       "                      image  chain  hotel_id           timestamp\n",
       "56845  c7c7383898d76598.jpg      6     60918 2020-07-18 00:03:38\n",
       "56846  c7c7383898d76598.jpg      6     60918 2020-08-29 04:35:13\n",
       "62238  ce27d36c9147cc19.jpg      6     60918 2020-07-18 00:03:38\n",
       "62239  ce27d36c9147cc19.jpg      6     60918 2020-08-29 04:35:13"
      ]
     },
     "execution_count": 10,
     "metadata": {},
     "output_type": "execute_result"
    }
   ],
   "source": [
    "# Subset duplicated image names - to all records (not just duplicates)\n",
    "train_metadata.loc[train_metadata.groupby(\"image\")[\"image\"].transform(\"count\") > 1, ]"
   ]
  },
  {
   "cell_type": "markdown",
   "id": "2f58bef0",
   "metadata": {},
   "source": [
    "It looks like these records have indeed been duplicated, and the names have just been switched around. We can remove 1 of each record. \n",
    "\n",
    "Although 2 records don't seem like a lot in the grand scheme of things (i.e. out of 97,554 total records), but every marginal improvement in the data quality is **critical** to model improvement. "
   ]
  },
  {
   "cell_type": "code",
   "execution_count": 44,
   "id": "b756bb8f",
   "metadata": {},
   "outputs": [],
   "source": [
    "# Remove 2 duplicated records\n",
    "train_metadata_dupes = train_metadata.loc[train_metadata.groupby(\"image\")[\"image\"].transform(\"count\") > 1, ]\n",
    "train_metadata_dupes_idx = train_metadata_dupes.iloc[[1, 3]].index\n",
    "train_metadata = train_metadata.drop(train_metadata_dupes_idx, axis=0)\n",
    "\n",
    "del train_metadata_dupes, train_metadata_dupes_idx"
   ]
  },
  {
   "cell_type": "code",
   "execution_count": 56,
   "id": "ae53ed9a",
   "metadata": {},
   "outputs": [
    {
     "data": {
      "text/html": [
       "<div>\n",
       "<style scoped>\n",
       "    .dataframe tbody tr th:only-of-type {\n",
       "        vertical-align: middle;\n",
       "    }\n",
       "\n",
       "    .dataframe tbody tr th {\n",
       "        vertical-align: top;\n",
       "    }\n",
       "\n",
       "    .dataframe thead th {\n",
       "        text-align: right;\n",
       "    }\n",
       "</style>\n",
       "<table border=\"1\" class=\"dataframe\">\n",
       "  <thead>\n",
       "    <tr style=\"text-align: right;\">\n",
       "      <th></th>\n",
       "      <th>image</th>\n",
       "      <th>chain</th>\n",
       "      <th>hotel_id</th>\n",
       "      <th>timestamp</th>\n",
       "    </tr>\n",
       "  </thead>\n",
       "  <tbody>\n",
       "    <tr>\n",
       "      <th>4193</th>\n",
       "      <td>8597c66e7391994c.jpg</td>\n",
       "      <td>0</td>\n",
       "      <td>204</td>\n",
       "      <td>2016-11-11 20:47:06</td>\n",
       "    </tr>\n",
       "    <tr>\n",
       "      <th>6184</th>\n",
       "      <td>87b5cbc0cc9cd8cc.jpg</td>\n",
       "      <td>0</td>\n",
       "      <td>204</td>\n",
       "      <td>2016-11-11 20:47:06</td>\n",
       "    </tr>\n",
       "    <tr>\n",
       "      <th>15175</th>\n",
       "      <td>93964ced92cc29b6.jpg</td>\n",
       "      <td>0</td>\n",
       "      <td>204</td>\n",
       "      <td>2016-11-11 20:47:06</td>\n",
       "    </tr>\n",
       "    <tr>\n",
       "      <th>71157</th>\n",
       "      <td>d89c8f0f70b0686f.jpg</td>\n",
       "      <td>0</td>\n",
       "      <td>204</td>\n",
       "      <td>2016-11-11 20:47:06</td>\n",
       "    </tr>\n",
       "    <tr>\n",
       "      <th>37149</th>\n",
       "      <td>adec21fa1b609a65.jpg</td>\n",
       "      <td>0</td>\n",
       "      <td>204</td>\n",
       "      <td>2017-10-08 20:59:29</td>\n",
       "    </tr>\n",
       "    <tr>\n",
       "      <th>...</th>\n",
       "      <td>...</td>\n",
       "      <td>...</td>\n",
       "      <td>...</td>\n",
       "      <td>...</td>\n",
       "    </tr>\n",
       "    <tr>\n",
       "      <th>92514</th>\n",
       "      <td>f8fc07c39748c1b4.jpg</td>\n",
       "      <td>91</td>\n",
       "      <td>47164</td>\n",
       "      <td>2016-06-28 17:08:15</td>\n",
       "    </tr>\n",
       "    <tr>\n",
       "      <th>65887</th>\n",
       "      <td>d2472a50cf35cd3a.jpg</td>\n",
       "      <td>91</td>\n",
       "      <td>47164</td>\n",
       "      <td>2019-09-23 19:16:34</td>\n",
       "    </tr>\n",
       "    <tr>\n",
       "      <th>70709</th>\n",
       "      <td>d7d478cfcb046381.jpg</td>\n",
       "      <td>91</td>\n",
       "      <td>47164</td>\n",
       "      <td>2019-09-23 19:16:34</td>\n",
       "    </tr>\n",
       "    <tr>\n",
       "      <th>72056</th>\n",
       "      <td>d9b39a56e25ca861.jpg</td>\n",
       "      <td>91</td>\n",
       "      <td>47164</td>\n",
       "      <td>2019-09-23 19:16:34</td>\n",
       "    </tr>\n",
       "    <tr>\n",
       "      <th>93054</th>\n",
       "      <td>fa0694f1e6cf0839.jpg</td>\n",
       "      <td>91</td>\n",
       "      <td>47164</td>\n",
       "      <td>2019-09-23 19:16:34</td>\n",
       "    </tr>\n",
       "  </tbody>\n",
       "</table>\n",
       "<p>93406 rows × 4 columns</p>\n",
       "</div>"
      ],
      "text/plain": [
       "                      image  chain  hotel_id           timestamp\n",
       "4193   8597c66e7391994c.jpg      0       204 2016-11-11 20:47:06\n",
       "6184   87b5cbc0cc9cd8cc.jpg      0       204 2016-11-11 20:47:06\n",
       "15175  93964ced92cc29b6.jpg      0       204 2016-11-11 20:47:06\n",
       "71157  d89c8f0f70b0686f.jpg      0       204 2016-11-11 20:47:06\n",
       "37149  adec21fa1b609a65.jpg      0       204 2017-10-08 20:59:29\n",
       "...                     ...    ...       ...                 ...\n",
       "92514  f8fc07c39748c1b4.jpg     91     47164 2016-06-28 17:08:15\n",
       "65887  d2472a50cf35cd3a.jpg     91     47164 2019-09-23 19:16:34\n",
       "70709  d7d478cfcb046381.jpg     91     47164 2019-09-23 19:16:34\n",
       "72056  d9b39a56e25ca861.jpg     91     47164 2019-09-23 19:16:34\n",
       "93054  fa0694f1e6cf0839.jpg     91     47164 2019-09-23 19:16:34\n",
       "\n",
       "[93406 rows x 4 columns]"
      ]
     },
     "execution_count": 56,
     "metadata": {},
     "output_type": "execute_result"
    }
   ],
   "source": [
    "# Observe any duplicates using chain, hotel_id and timestamp columns\n",
    "train_metadata[train_metadata.duplicated(\n",
    "    subset=[\"chain\", \"hotel_id\", \"timestamp\"], keep=False\n",
    ")].sort_values([\"chain\", \"hotel_id\", \"timestamp\"])"
   ]
  },
  {
   "cell_type": "markdown",
   "id": "a5c9b834",
   "metadata": {},
   "source": [
    "Excluding the image column, most images are considered duplicates - this won't actually be the case however. Rather, it can possibly be that the timestamp column is not wholly accurate. Images may have been batch uploaded, or the timestamp column doesn't precisely measure the actual time these images were taken. \n",
    "\n",
    "The timestamp feature will be analysed in more detail to see if there is any value in including this feature as part of our model training. While it is not included as a feature in the test set, if informative, we can use it in our cross validation strategy. \n",
    "\n",
    "And as for possible image duplicates (where the metadata appear unique, but the actual image isn't), this will also be analysed in subsequent sections.\n",
    "\n",
    "## 3.03 Chain Analysis"
   ]
  },
  {
   "cell_type": "code",
   "execution_count": 59,
   "id": "031c35aa",
   "metadata": {},
   "outputs": [
    {
     "name": "stdout",
     "output_type": "stream",
     "text": [
      "Number of unique chain ids: 88\n"
     ]
    }
   ],
   "source": [
    "print(f\"Number of unique chain ids: {train_metadata['chain'].nunique()}\")"
   ]
  },
  {
   "cell_type": "code",
   "execution_count": 96,
   "id": "12e64210",
   "metadata": {},
   "outputs": [
    {
     "data": {
      "image/png": "[encoded data removed]",
      "text/plain": [
       "<Figure size 1008x576 with 1 Axes>"
      ]
     },
     "metadata": {
      "needs_background": "light"
     },
     "output_type": "display_data"
    }
   ],
   "source": [
    "# Plot histogram of chain ids\n",
    "sns.histplot(data=train_metadata, x=\"chain\", stat=\"count\", binwidth=1)\n",
    "plt.xlabel(\"Chain ID\", fontsize=12)\n",
    "plt.ylabel(\"Count\", fontsize=12)\n",
    "plt.title(\"Distribution of Chain IDs in Train Metadata\", fontsize=15)\n",
    "plt.show()"
   ]
  },
  {
   "cell_type": "markdown",
   "id": "2e6b6cb5",
   "metadata": {},
   "source": [
    "We'll definitely have to stratify by chain during cross validation - there's a heavy 'skew' (there's no particular distribution) towards lower chain ID integers, as well as some increase in counts towards the higher end of chain ID integers also. The middle range appears quite sparse, so we should take extra care not to allow our model to favour only chain IDs in the majority groups."
   ]
  },
  {
   "cell_type": "code",
   "execution_count": 124,
   "id": "494b9430",
   "metadata": {},
   "outputs": [
    {
     "data": {
      "text/html": [
       "<div>\n",
       "<style scoped>\n",
       "    .dataframe tbody tr th:only-of-type {\n",
       "        vertical-align: middle;\n",
       "    }\n",
       "\n",
       "    .dataframe tbody tr th {\n",
       "        vertical-align: top;\n",
       "    }\n",
       "\n",
       "    .dataframe thead th {\n",
       "        text-align: right;\n",
       "    }\n",
       "</style>\n",
       "<table border=\"1\" class=\"dataframe\">\n",
       "  <thead>\n",
       "    <tr style=\"text-align: right;\">\n",
       "      <th></th>\n",
       "      <th>Chain ID Count Statistics</th>\n",
       "    </tr>\n",
       "  </thead>\n",
       "  <tbody>\n",
       "    <tr>\n",
       "      <th>count</th>\n",
       "      <td>88.000000</td>\n",
       "    </tr>\n",
       "    <tr>\n",
       "      <th>mean</th>\n",
       "      <td>1108.568182</td>\n",
       "    </tr>\n",
       "    <tr>\n",
       "      <th>std</th>\n",
       "      <td>2528.773719</td>\n",
       "    </tr>\n",
       "    <tr>\n",
       "      <th>min</th>\n",
       "      <td>8.000000</td>\n",
       "    </tr>\n",
       "    <tr>\n",
       "      <th>25%</th>\n",
       "      <td>80.750000</td>\n",
       "    </tr>\n",
       "    <tr>\n",
       "      <th>50%</th>\n",
       "      <td>262.500000</td>\n",
       "    </tr>\n",
       "    <tr>\n",
       "      <th>75%</th>\n",
       "      <td>1144.500000</td>\n",
       "    </tr>\n",
       "    <tr>\n",
       "      <th>max</th>\n",
       "      <td>20259.000000</td>\n",
       "    </tr>\n",
       "  </tbody>\n",
       "</table>\n",
       "</div>"
      ],
      "text/plain": [
       "       Chain ID Count Statistics\n",
       "count                  88.000000\n",
       "mean                 1108.568182\n",
       "std                  2528.773719\n",
       "min                     8.000000\n",
       "25%                    80.750000\n",
       "50%                   262.500000\n",
       "75%                  1144.500000\n",
       "max                 20259.000000"
      ]
     },
     "execution_count": 124,
     "metadata": {},
     "output_type": "execute_result"
    }
   ],
   "source": [
    "# Display descriptive stats on numbers of records per chain id\n",
    "train_chain_stats = pd.DataFrame(train_metadata[\"chain\"].value_counts())\n",
    "train_chain_stats.describe().rename(columns={\"chain\": \"Chain ID Count Statistics\"})"
   ]
  },
  {
   "cell_type": "code",
   "execution_count": null,
   "id": "a49b6450",
   "metadata": {},
   "outputs": [],
   "source": []
  },
  {
   "cell_type": "code",
   "execution_count": null,
   "id": "aa0ac63e",
   "metadata": {},
   "outputs": [],
   "source": []
  },
  {
   "cell_type": "code",
   "execution_count": null,
   "id": "87b78a2c",
   "metadata": {},
   "outputs": [],
   "source": []
  },
  {
   "cell_type": "code",
   "execution_count": null,
   "id": "31087e6e",
   "metadata": {},
   "outputs": [],
   "source": []
  },
  {
   "cell_type": "code",
   "execution_count": null,
   "id": "87f8d1e4",
   "metadata": {},
   "outputs": [],
   "source": []
  },
  {
   "cell_type": "code",
   "execution_count": null,
   "id": "f23cddb6",
   "metadata": {},
   "outputs": [],
   "source": []
  },
  {
   "cell_type": "code",
   "execution_count": null,
   "id": "1bc99ce8",
   "metadata": {},
   "outputs": [],
   "source": []
  },
  {
   "cell_type": "code",
   "execution_count": null,
   "id": "a5738a43",
   "metadata": {},
   "outputs": [],
   "source": []
  },
  {
   "cell_type": "code",
   "execution_count": null,
   "id": "1b907aca",
   "metadata": {},
   "outputs": [],
   "source": []
  },
  {
   "cell_type": "code",
   "execution_count": null,
   "id": "8780acb1",
   "metadata": {},
   "outputs": [],
   "source": []
  },
  {
   "cell_type": "code",
   "execution_count": null,
   "id": "bb9ee069",
   "metadata": {},
   "outputs": [],
   "source": []
  },
  {
   "cell_type": "code",
   "execution_count": null,
   "id": "80f7fe9d",
   "metadata": {},
   "outputs": [],
   "source": []
  },
  {
   "cell_type": "code",
   "execution_count": null,
   "id": "residential-assignment",
   "metadata": {},
   "outputs": [],
   "source": []
  },
  {
   "cell_type": "code",
   "execution_count": null,
   "id": "gothic-retreat",
   "metadata": {},
   "outputs": [],
   "source": []
  },
  {
   "cell_type": "code",
   "execution_count": null,
   "id": "specified-specification",
   "metadata": {},
   "outputs": [],
   "source": []
  },
  {
   "cell_type": "code",
   "execution_count": null,
   "id": "posted-selection",
   "metadata": {},
   "outputs": [],
   "source": []
  }
 ],
 "metadata": {
  "kernelspec": {
   "display_name": "Python 3",
   "language": "python",
   "name": "python3"
  },
  "language_info": {
   "codemirror_mode": {
    "name": "ipython",
    "version": 3
   },
   "file_extension": ".py",
   "mimetype": "text/x-python",
   "name": "python",
   "nbconvert_exporter": "python",
   "pygments_lexer": "ipython3",
   "version": "3.6.8"
  }
 },
 "nbformat": 4,
 "nbformat_minor": 5
}
